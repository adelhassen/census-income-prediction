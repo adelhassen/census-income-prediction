{
 "cells": [
  {
   "cell_type": "markdown",
   "metadata": {},
   "source": [
    "# Census Income Prediction"
   ]
  },
  {
   "cell_type": "markdown",
   "metadata": {},
   "source": [
    "## Load Packages"
   ]
  },
  {
   "cell_type": "code",
   "execution_count": 1,
   "metadata": {},
   "outputs": [],
   "source": [
    "import pandas as pd\n",
    "import numpy as np\n",
    "import matplotlib.pyplot as plt\n",
    "import seaborn as sns"
   ]
  },
  {
   "cell_type": "markdown",
   "metadata": {},
   "source": [
    "## Load Data"
   ]
  },
  {
   "cell_type": "code",
   "execution_count": 2,
   "metadata": {},
   "outputs": [],
   "source": [
    "raw_train = pd.read_csv(\"../data/census_income_learn.csv\")\n",
    "raw_test = pd.read_csv(\"../data/census_income_test.csv\")"
   ]
  },
  {
   "cell_type": "markdown",
   "metadata": {},
   "source": [
    "- Add column names\n",
    "- Format target variable\n",
    "- Data structure: head, info, describe\n",
    "- Confirm data types\n",
    "- Remove duplicates\n",
    "- Target class balance\n",
    "- Missing values\n",
    "- Summary stats\n",
    "- Numerical features\n",
    "    - Summary stats\n",
    "    - Histogram / KDE plots\n",
    "    - Univariate analysis (filtered by target)\n",
    "    - Normality tests using Shapiro-Wilk test (not needed unless we want to use ANOVA)\n",
    "    - Visuals (Boxplot, distribution plot, bar chart, pearson correlation)\n",
    "- Outlier values\n",
    "- Skewed values?\n",
    "- Drop highly correlated features\n",
    "- Drop constant features\n",
    "- Categorical\n",
    "    - Summary stats\n",
    "    - Frequency counts\n",
    "    - Relationship with target\n",
    "- Re-binning categorical features\n",
    "    - Bin low-frequency categories into \"Other\" group\n",
    "    - Bin similar categories together\n",
    "- Statistical dependence\n",
    "    - Numerical: t-test (if normal) or Mann-Whitney U test\n",
    "    - Categorical: chi square + Kramer's V\n",
    "- Recap initial insights\n",
    "\n",
    "\n",
    "My Questions/Thoughts\n",
    "\n",
    "- If feature contains outliers and is skewed, should I cap or transform or both?\n",
    "- Features don't need to be normal if I use models that don't require normality, but I can't use certain statistical algos like linear regression and ANOVA"
   ]
  },
  {
   "cell_type": "markdown",
   "metadata": {},
   "source": [
    "## Analyze Data"
   ]
  },
  {
   "cell_type": "markdown",
   "metadata": {},
   "source": [
    "### Process Data\n",
    "\n",
    "- Add column names\n",
    "- Format target variable\n",
    "- Data structure: head, info, describe\n",
    "- Confirm data types\n",
    "- Remove duplicates\n",
    "- Target class balance\n",
    "- Missing values"
   ]
  },
  {
   "cell_type": "code",
   "execution_count": 3,
   "metadata": {},
   "outputs": [],
   "source": [
    "# List of column names\n",
    "\n",
    "col_names = [\n",
    "    \"age\",\n",
    "    \"class_of_worker\",\n",
    "    \"detailed_industry_recode\",\n",
    "    \"detailed_occupation_recode\",\n",
    "    \"education\",\n",
    "    \"wage_per_hour\",\n",
    "    \"enroll_in_edu_inst_last_wk\",\n",
    "    \"marital_stat\",\n",
    "    \"major_industry_code\",\n",
    "    \"major_occupation_code\",\n",
    "    \"race\",\n",
    "    \"hispanic_origin\",\n",
    "    \"sex\",\n",
    "    \"member_of_a_labor_union\",\n",
    "    \"reason_for_unemployment\",\n",
    "    \"full_or_part_time_employment_stat\",\n",
    "    \"capital_gains\",\n",
    "    \"capital_losses\",\n",
    "    \"dividends_from_stocks\",\n",
    "    \"tax_filer_stat\",\n",
    "    \"region_of_previous_residence\",\n",
    "    \"state_of_previous_residence\",\n",
    "    \"detailed_household_and_family_stat\",\n",
    "    \"detailed_household_summary_in_household\",\n",
    "    \"instance_weight\",\n",
    "    \"migration_code-change_in_msa\",\n",
    "    \"migration_code-change_in_reg\",\n",
    "    \"migration_code-move_within_reg\",\n",
    "    \"live_in_this_house_1_year_ago\",\n",
    "    \"migration_prev_res_in_sunbelt\",\n",
    "    \"num_persons_worked_for_employer\",\n",
    "    \"family_members_under_18\",\n",
    "    \"country_of_birth_father\",\n",
    "    \"country_of_birth_mother\",\n",
    "    \"country_of_birth_self\",\n",
    "    \"citizenship\",\n",
    "    \"own_business_or_self_employed\",\n",
    "    \"fill_inc_questionnaire_for_veteran's_admin\",\n",
    "    \"veterans_benefits\",\n",
    "    \"weeks_worked_in_year\",\n",
    "    \"year\",\n",
    "    \"income_classification\"\n",
    "]"
   ]
  },
  {
   "cell_type": "code",
   "execution_count": 4,
   "metadata": {},
   "outputs": [],
   "source": [
    "# Assign column names to data\n",
    "raw_train.columns = col_names\n",
    "raw_test.columns = col_names"
   ]
  },
  {
   "cell_type": "code",
   "execution_count": 5,
   "metadata": {},
   "outputs": [],
   "source": [
    "# Drop instance_weight since it should not be included in our classifiers\n",
    "raw_train.drop([\"instance_weight\"], axis=1, inplace=True)\n",
    "raw_test.drop([\"instance_weight\"], axis=1, inplace=True)"
   ]
  },
  {
   "cell_type": "code",
   "execution_count": 6,
   "metadata": {},
   "outputs": [
    {
     "name": "stdout",
     "output_type": "stream",
     "text": [
      "Training data target's unique values: [' - 50000.' ' 50000+.']\n",
      "Test data target's unique values: [' - 50000.' ' 50000+.']\n"
     ]
    }
   ],
   "source": [
    "print(f\"Training data target's unique values: {raw_train['income_classification'].unique()}\")\n",
    "print(f\"Test data target's unique values: {raw_test['income_classification'].unique()}\")"
   ]
  },
  {
   "cell_type": "code",
   "execution_count": 7,
   "metadata": {},
   "outputs": [],
   "source": [
    "# Format target variable for training data\n",
    "raw_train[\"target\"] = np.where(\n",
    "    raw_train[\"income_classification\"] == \" - 50000.\",\n",
    "    0,\n",
    "    1\n",
    ")"
   ]
  },
  {
   "cell_type": "code",
   "execution_count": 8,
   "metadata": {},
   "outputs": [],
   "source": [
    "# Format target variable for test data\n",
    "raw_test[\"target\"] = np.where(\n",
    "    raw_test[\"income_classification\"] == \" - 50000.\",\n",
    "    0,\n",
    "    1\n",
    ")"
   ]
  },
  {
   "cell_type": "code",
   "execution_count": 9,
   "metadata": {},
   "outputs": [],
   "source": [
    "# Drop income_classification column\n",
    "raw_train.drop([\"income_classification\"], axis=1, inplace=True)\n",
    "raw_test.drop([\"income_classification\"], axis=1, inplace=True)"
   ]
  },
  {
   "cell_type": "code",
   "execution_count": 10,
   "metadata": {},
   "outputs": [
    {
     "data": {
      "text/html": [
       "<div>\n",
       "<style scoped>\n",
       "    .dataframe tbody tr th:only-of-type {\n",
       "        vertical-align: middle;\n",
       "    }\n",
       "\n",
       "    .dataframe tbody tr th {\n",
       "        vertical-align: top;\n",
       "    }\n",
       "\n",
       "    .dataframe thead th {\n",
       "        text-align: right;\n",
       "    }\n",
       "</style>\n",
       "<table border=\"1\" class=\"dataframe\">\n",
       "  <thead>\n",
       "    <tr style=\"text-align: right;\">\n",
       "      <th></th>\n",
       "      <th>age</th>\n",
       "      <th>class_of_worker</th>\n",
       "      <th>detailed_industry_recode</th>\n",
       "      <th>detailed_occupation_recode</th>\n",
       "      <th>education</th>\n",
       "      <th>wage_per_hour</th>\n",
       "      <th>enroll_in_edu_inst_last_wk</th>\n",
       "      <th>marital_stat</th>\n",
       "      <th>major_industry_code</th>\n",
       "      <th>major_occupation_code</th>\n",
       "      <th>...</th>\n",
       "      <th>country_of_birth_father</th>\n",
       "      <th>country_of_birth_mother</th>\n",
       "      <th>country_of_birth_self</th>\n",
       "      <th>citizenship</th>\n",
       "      <th>own_business_or_self_employed</th>\n",
       "      <th>fill_inc_questionnaire_for_veteran's_admin</th>\n",
       "      <th>veterans_benefits</th>\n",
       "      <th>weeks_worked_in_year</th>\n",
       "      <th>year</th>\n",
       "      <th>target</th>\n",
       "    </tr>\n",
       "  </thead>\n",
       "  <tbody>\n",
       "    <tr>\n",
       "      <th>0</th>\n",
       "      <td>58</td>\n",
       "      <td>Self-employed-not incorporated</td>\n",
       "      <td>4</td>\n",
       "      <td>34</td>\n",
       "      <td>Some college but no degree</td>\n",
       "      <td>0</td>\n",
       "      <td>Not in universe</td>\n",
       "      <td>Divorced</td>\n",
       "      <td>Construction</td>\n",
       "      <td>Precision production craft &amp; repair</td>\n",
       "      <td>...</td>\n",
       "      <td>United-States</td>\n",
       "      <td>United-States</td>\n",
       "      <td>United-States</td>\n",
       "      <td>Native- Born in the United States</td>\n",
       "      <td>0</td>\n",
       "      <td>Not in universe</td>\n",
       "      <td>2</td>\n",
       "      <td>52</td>\n",
       "      <td>94</td>\n",
       "      <td>0</td>\n",
       "    </tr>\n",
       "    <tr>\n",
       "      <th>1</th>\n",
       "      <td>18</td>\n",
       "      <td>Not in universe</td>\n",
       "      <td>0</td>\n",
       "      <td>0</td>\n",
       "      <td>10th grade</td>\n",
       "      <td>0</td>\n",
       "      <td>High school</td>\n",
       "      <td>Never married</td>\n",
       "      <td>Not in universe or children</td>\n",
       "      <td>Not in universe</td>\n",
       "      <td>...</td>\n",
       "      <td>Vietnam</td>\n",
       "      <td>Vietnam</td>\n",
       "      <td>Vietnam</td>\n",
       "      <td>Foreign born- Not a citizen of U S</td>\n",
       "      <td>0</td>\n",
       "      <td>Not in universe</td>\n",
       "      <td>2</td>\n",
       "      <td>0</td>\n",
       "      <td>95</td>\n",
       "      <td>0</td>\n",
       "    </tr>\n",
       "    <tr>\n",
       "      <th>2</th>\n",
       "      <td>9</td>\n",
       "      <td>Not in universe</td>\n",
       "      <td>0</td>\n",
       "      <td>0</td>\n",
       "      <td>Children</td>\n",
       "      <td>0</td>\n",
       "      <td>Not in universe</td>\n",
       "      <td>Never married</td>\n",
       "      <td>Not in universe or children</td>\n",
       "      <td>Not in universe</td>\n",
       "      <td>...</td>\n",
       "      <td>United-States</td>\n",
       "      <td>United-States</td>\n",
       "      <td>United-States</td>\n",
       "      <td>Native- Born in the United States</td>\n",
       "      <td>0</td>\n",
       "      <td>Not in universe</td>\n",
       "      <td>0</td>\n",
       "      <td>0</td>\n",
       "      <td>94</td>\n",
       "      <td>0</td>\n",
       "    </tr>\n",
       "    <tr>\n",
       "      <th>3</th>\n",
       "      <td>10</td>\n",
       "      <td>Not in universe</td>\n",
       "      <td>0</td>\n",
       "      <td>0</td>\n",
       "      <td>Children</td>\n",
       "      <td>0</td>\n",
       "      <td>Not in universe</td>\n",
       "      <td>Never married</td>\n",
       "      <td>Not in universe or children</td>\n",
       "      <td>Not in universe</td>\n",
       "      <td>...</td>\n",
       "      <td>United-States</td>\n",
       "      <td>United-States</td>\n",
       "      <td>United-States</td>\n",
       "      <td>Native- Born in the United States</td>\n",
       "      <td>0</td>\n",
       "      <td>Not in universe</td>\n",
       "      <td>0</td>\n",
       "      <td>0</td>\n",
       "      <td>94</td>\n",
       "      <td>0</td>\n",
       "    </tr>\n",
       "    <tr>\n",
       "      <th>4</th>\n",
       "      <td>48</td>\n",
       "      <td>Private</td>\n",
       "      <td>40</td>\n",
       "      <td>10</td>\n",
       "      <td>Some college but no degree</td>\n",
       "      <td>1200</td>\n",
       "      <td>Not in universe</td>\n",
       "      <td>Married-civilian spouse present</td>\n",
       "      <td>Entertainment</td>\n",
       "      <td>Professional specialty</td>\n",
       "      <td>...</td>\n",
       "      <td>Philippines</td>\n",
       "      <td>United-States</td>\n",
       "      <td>United-States</td>\n",
       "      <td>Native- Born in the United States</td>\n",
       "      <td>2</td>\n",
       "      <td>Not in universe</td>\n",
       "      <td>2</td>\n",
       "      <td>52</td>\n",
       "      <td>95</td>\n",
       "      <td>0</td>\n",
       "    </tr>\n",
       "  </tbody>\n",
       "</table>\n",
       "<p>5 rows × 41 columns</p>\n",
       "</div>"
      ],
      "text/plain": [
       "   age                  class_of_worker  detailed_industry_recode  \\\n",
       "0   58   Self-employed-not incorporated                         4   \n",
       "1   18                  Not in universe                         0   \n",
       "2    9                  Not in universe                         0   \n",
       "3   10                  Not in universe                         0   \n",
       "4   48                          Private                        40   \n",
       "\n",
       "   detailed_occupation_recode                    education  wage_per_hour  \\\n",
       "0                          34   Some college but no degree              0   \n",
       "1                           0                   10th grade              0   \n",
       "2                           0                     Children              0   \n",
       "3                           0                     Children              0   \n",
       "4                          10   Some college but no degree           1200   \n",
       "\n",
       "  enroll_in_edu_inst_last_wk                      marital_stat  \\\n",
       "0            Not in universe                          Divorced   \n",
       "1                High school                     Never married   \n",
       "2            Not in universe                     Never married   \n",
       "3            Not in universe                     Never married   \n",
       "4            Not in universe   Married-civilian spouse present   \n",
       "\n",
       "            major_industry_code                 major_occupation_code  ...  \\\n",
       "0                  Construction   Precision production craft & repair  ...   \n",
       "1   Not in universe or children                       Not in universe  ...   \n",
       "2   Not in universe or children                       Not in universe  ...   \n",
       "3   Not in universe or children                       Not in universe  ...   \n",
       "4                 Entertainment                Professional specialty  ...   \n",
       "\n",
       "  country_of_birth_father country_of_birth_mother country_of_birth_self  \\\n",
       "0           United-States           United-States         United-States   \n",
       "1                 Vietnam                 Vietnam               Vietnam   \n",
       "2           United-States           United-States         United-States   \n",
       "3           United-States           United-States         United-States   \n",
       "4             Philippines           United-States         United-States   \n",
       "\n",
       "                            citizenship own_business_or_self_employed  \\\n",
       "0     Native- Born in the United States                             0   \n",
       "1   Foreign born- Not a citizen of U S                              0   \n",
       "2     Native- Born in the United States                             0   \n",
       "3     Native- Born in the United States                             0   \n",
       "4     Native- Born in the United States                             2   \n",
       "\n",
       "  fill_inc_questionnaire_for_veteran's_admin  veterans_benefits  \\\n",
       "0                            Not in universe                  2   \n",
       "1                            Not in universe                  2   \n",
       "2                            Not in universe                  0   \n",
       "3                            Not in universe                  0   \n",
       "4                            Not in universe                  2   \n",
       "\n",
       "   weeks_worked_in_year  year target  \n",
       "0                    52    94      0  \n",
       "1                     0    95      0  \n",
       "2                     0    94      0  \n",
       "3                     0    94      0  \n",
       "4                    52    95      0  \n",
       "\n",
       "[5 rows x 41 columns]"
      ]
     },
     "execution_count": 10,
     "metadata": {},
     "output_type": "execute_result"
    }
   ],
   "source": [
    "# Take a look at the columns\n",
    "raw_train.head(5)"
   ]
  },
  {
   "cell_type": "code",
   "execution_count": 11,
   "metadata": {},
   "outputs": [
    {
     "name": "stdout",
     "output_type": "stream",
     "text": [
      "The training data contains 199522 rows and 41 columns.\n",
      "The test data contains 99761 rows and 41 columns.\n"
     ]
    }
   ],
   "source": [
    "print(f\"The training data contains {raw_train.shape[0]} rows and {raw_train.shape[1]} columns.\")\n",
    "print(f\"The test data contains {raw_test.shape[0]} rows and {raw_test.shape[1]} columns.\")"
   ]
  },
  {
   "cell_type": "code",
   "execution_count": 12,
   "metadata": {},
   "outputs": [
    {
     "name": "stdout",
     "output_type": "stream",
     "text": [
      "<class 'pandas.core.frame.DataFrame'>\n",
      "RangeIndex: 199522 entries, 0 to 199521\n",
      "Data columns (total 41 columns):\n",
      " #   Column                                      Non-Null Count   Dtype \n",
      "---  ------                                      --------------   ----- \n",
      " 0   age                                         199522 non-null  int64 \n",
      " 1   class_of_worker                             199522 non-null  object\n",
      " 2   detailed_industry_recode                    199522 non-null  int64 \n",
      " 3   detailed_occupation_recode                  199522 non-null  int64 \n",
      " 4   education                                   199522 non-null  object\n",
      " 5   wage_per_hour                               199522 non-null  int64 \n",
      " 6   enroll_in_edu_inst_last_wk                  199522 non-null  object\n",
      " 7   marital_stat                                199522 non-null  object\n",
      " 8   major_industry_code                         199522 non-null  object\n",
      " 9   major_occupation_code                       199522 non-null  object\n",
      " 10  race                                        199522 non-null  object\n",
      " 11  hispanic_origin                             199522 non-null  object\n",
      " 12  sex                                         199522 non-null  object\n",
      " 13  member_of_a_labor_union                     199522 non-null  object\n",
      " 14  reason_for_unemployment                     199522 non-null  object\n",
      " 15  full_or_part_time_employment_stat           199522 non-null  object\n",
      " 16  capital_gains                               199522 non-null  int64 \n",
      " 17  capital_losses                              199522 non-null  int64 \n",
      " 18  dividends_from_stocks                       199522 non-null  int64 \n",
      " 19  tax_filer_stat                              199522 non-null  object\n",
      " 20  region_of_previous_residence                199522 non-null  object\n",
      " 21  state_of_previous_residence                 199522 non-null  object\n",
      " 22  detailed_household_and_family_stat          199522 non-null  object\n",
      " 23  detailed_household_summary_in_household     199522 non-null  object\n",
      " 24  migration_code-change_in_msa                199522 non-null  object\n",
      " 25  migration_code-change_in_reg                199522 non-null  object\n",
      " 26  migration_code-move_within_reg              199522 non-null  object\n",
      " 27  live_in_this_house_1_year_ago               199522 non-null  object\n",
      " 28  migration_prev_res_in_sunbelt               199522 non-null  object\n",
      " 29  num_persons_worked_for_employer             199522 non-null  int64 \n",
      " 30  family_members_under_18                     199522 non-null  object\n",
      " 31  country_of_birth_father                     199522 non-null  object\n",
      " 32  country_of_birth_mother                     199522 non-null  object\n",
      " 33  country_of_birth_self                       199522 non-null  object\n",
      " 34  citizenship                                 199522 non-null  object\n",
      " 35  own_business_or_self_employed               199522 non-null  int64 \n",
      " 36  fill_inc_questionnaire_for_veteran's_admin  199522 non-null  object\n",
      " 37  veterans_benefits                           199522 non-null  int64 \n",
      " 38  weeks_worked_in_year                        199522 non-null  int64 \n",
      " 39  year                                        199522 non-null  int64 \n",
      " 40  target                                      199522 non-null  int64 \n",
      "dtypes: int64(13), object(28)\n",
      "memory usage: 62.4+ MB\n"
     ]
    }
   ],
   "source": [
    "# Ensure each column has the correct data type\n",
    "raw_train.info()"
   ]
  },
  {
   "cell_type": "code",
   "execution_count": 14,
   "metadata": {},
   "outputs": [],
   "source": [
    "# Convert these objects into objects\n",
    "convert_to_obj = [\"detailed_industry_recode\", \"detailed_occupation_recode\", \"own_business_or_self_employed\", \"veterans_benefits\", \"year\"]\n",
    "\n",
    "raw_train[convert_to_obj] = raw_train[convert_to_obj].astype(str)\n",
    "raw_test[convert_to_obj] = raw_test[convert_to_obj].astype(str)"
   ]
  },
  {
   "cell_type": "code",
   "execution_count": null,
   "metadata": {},
   "outputs": [
    {
     "name": "stdout",
     "output_type": "stream",
     "text": [
      "Get rid of 46626 duplicate entries in training data.\n",
      "Get rid of 20898 duplicate entries in test data.\n"
     ]
    }
   ],
   "source": [
    "# Get rid of duplicates even in test data to avoid biasing evaluation metrics\n",
    "\n",
    "print(f\"Get rid of {raw_train.shape[0] - raw_train.drop_duplicates().shape[0]} duplicate entries in training data.\")\n",
    "print(f\"Get rid of {raw_test.shape[0] - raw_test.drop_duplicates().shape[0]} duplicate entries in test data.\")\n",
    "\n",
    "raw_train.drop_duplicates(inplace=True)\n",
    "raw_test.drop_duplicates(inplace=True)"
   ]
  },
  {
   "cell_type": "code",
   "execution_count": null,
   "metadata": {},
   "outputs": [
    {
     "data": {
      "text/plain": [
       "target\n",
       "0    0.919115\n",
       "1    0.080885\n",
       "Name: proportion, dtype: float64"
      ]
     },
     "execution_count": 25,
     "metadata": {},
     "output_type": "execute_result"
    }
   ],
   "source": [
    "# We have a major class imbalance\n",
    "raw_train[\"target\"].value_counts(normalize=True)"
   ]
  },
  {
   "cell_type": "code",
   "execution_count": null,
   "metadata": {},
   "outputs": [],
   "source": [
    "def missing_values_summary(df: pd.DataFrame, missing_value=\" ?\"):\n",
    "    \"\"\"\n",
    "    Returns a DataFrame with columns for count and percentage of custom missing values,\n",
    "    sorted by the highest percentage of missing values.\n",
    "    \n",
    "    Parameters:\n",
    "        df (pd.DataFrame): The DataFrame to analyze.\n",
    "        missing_value (str): The value to consider as missing (default is \"?\").\n",
    "    \n",
    "    Returns:\n",
    "        pd.DataFrame: Summary of missing values.\n",
    "    \"\"\"\n",
    "    missing_count = df.isin([missing_value]).sum()  # Count occurrences of the missing value\n",
    "    total_rows = len(df)\n",
    "    missing_percentage = (missing_count / total_rows)\n",
    "    \n",
    "    missing_summary = pd.DataFrame({\n",
    "        'Missing Count': missing_count,\n",
    "        'Missing Proportion': missing_percentage\n",
    "    })\n",
    "    \n",
    "    # Filter to only include columns with missing values and sort by percentage\n",
    "    missing_summary = missing_summary[missing_summary['Missing Count'] > 0]\n",
    "    missing_summary = missing_summary.sort_values(by='Missing Proportion', ascending=False)\n",
    "    \n",
    "    return missing_summary"
   ]
  },
  {
   "cell_type": "code",
   "execution_count": 49,
   "metadata": {},
   "outputs": [
    {
     "data": {
      "text/html": [
       "<div>\n",
       "<style scoped>\n",
       "    .dataframe tbody tr th:only-of-type {\n",
       "        vertical-align: middle;\n",
       "    }\n",
       "\n",
       "    .dataframe tbody tr th {\n",
       "        vertical-align: top;\n",
       "    }\n",
       "\n",
       "    .dataframe thead th {\n",
       "        text-align: right;\n",
       "    }\n",
       "</style>\n",
       "<table border=\"1\" class=\"dataframe\">\n",
       "  <thead>\n",
       "    <tr style=\"text-align: right;\">\n",
       "      <th></th>\n",
       "      <th>Missing Count</th>\n",
       "      <th>Missing Proportion</th>\n",
       "    </tr>\n",
       "  </thead>\n",
       "  <tbody>\n",
       "    <tr>\n",
       "      <th>migration_code-change_in_msa</th>\n",
       "      <td>74944</td>\n",
       "      <td>0.490163</td>\n",
       "    </tr>\n",
       "    <tr>\n",
       "      <th>migration_code-change_in_reg</th>\n",
       "      <td>74944</td>\n",
       "      <td>0.490163</td>\n",
       "    </tr>\n",
       "    <tr>\n",
       "      <th>migration_code-move_within_reg</th>\n",
       "      <td>74944</td>\n",
       "      <td>0.490163</td>\n",
       "    </tr>\n",
       "    <tr>\n",
       "      <th>migration_prev_res_in_sunbelt</th>\n",
       "      <td>74944</td>\n",
       "      <td>0.490163</td>\n",
       "    </tr>\n",
       "    <tr>\n",
       "      <th>country_of_birth_father</th>\n",
       "      <td>6383</td>\n",
       "      <td>0.041747</td>\n",
       "    </tr>\n",
       "    <tr>\n",
       "      <th>country_of_birth_mother</th>\n",
       "      <td>5810</td>\n",
       "      <td>0.038000</td>\n",
       "    </tr>\n",
       "    <tr>\n",
       "      <th>country_of_birth_self</th>\n",
       "      <td>3322</td>\n",
       "      <td>0.021727</td>\n",
       "    </tr>\n",
       "    <tr>\n",
       "      <th>state_of_previous_residence</th>\n",
       "      <td>698</td>\n",
       "      <td>0.004565</td>\n",
       "    </tr>\n",
       "  </tbody>\n",
       "</table>\n",
       "</div>"
      ],
      "text/plain": [
       "                                Missing Count  Missing Proportion\n",
       "migration_code-change_in_msa            74944            0.490163\n",
       "migration_code-change_in_reg            74944            0.490163\n",
       "migration_code-move_within_reg          74944            0.490163\n",
       "migration_prev_res_in_sunbelt           74944            0.490163\n",
       "country_of_birth_father                  6383            0.041747\n",
       "country_of_birth_mother                  5810            0.038000\n",
       "country_of_birth_self                    3322            0.021727\n",
       "state_of_previous_residence               698            0.004565"
      ]
     },
     "execution_count": 49,
     "metadata": {},
     "output_type": "execute_result"
    }
   ],
   "source": [
    "missing_values_summary(raw_train)"
   ]
  },
  {
   "cell_type": "code",
   "execution_count": 39,
   "metadata": {},
   "outputs": [
    {
     "data": {
      "text/plain": [
       "migration_code-change_in_reg\n",
       "?                                 74944\n",
       "Nonmover                          62204\n",
       "Same county                        9479\n",
       "Different county same state        2773\n",
       "Different region                   1173\n",
       "Different state same division       989\n",
       "Abroad                              527\n",
       "Different division same region      463\n",
       "Not in universe                     344\n",
       "Name: count, dtype: int64"
      ]
     },
     "execution_count": 39,
     "metadata": {},
     "output_type": "execute_result"
    }
   ],
   "source": [
    "raw_train[\"migration_code-change_in_reg\"].value_counts()\n"
   ]
  },
  {
   "cell_type": "code",
   "execution_count": null,
   "metadata": {},
   "outputs": [],
   "source": []
  }
 ],
 "metadata": {
  "kernelspec": {
   "display_name": "census-income-prediction-m6_D4AeJ",
   "language": "python",
   "name": "python3"
  },
  "language_info": {
   "codemirror_mode": {
    "name": "ipython",
    "version": 3
   },
   "file_extension": ".py",
   "mimetype": "text/x-python",
   "name": "python",
   "nbconvert_exporter": "python",
   "pygments_lexer": "ipython3",
   "version": "3.11.5"
  }
 },
 "nbformat": 4,
 "nbformat_minor": 2
}
